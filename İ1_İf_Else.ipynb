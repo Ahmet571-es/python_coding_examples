{
 "cells": [
  {
   "cell_type": "code",
   "execution_count": 1,
   "metadata": {},
   "outputs": [],
   "source": [
    "# if(kosul):\n",
    "    # print(kosul sağlandıktan sonra oluşan veri)"
   ]
  },
  {
   "cell_type": "code",
   "execution_count": 2,
   "metadata": {},
   "outputs": [
    {
     "name": "stdout",
     "output_type": "stream",
     "text": [
      "b sayısı a sayısından büyüktür\n"
     ]
    }
   ],
   "source": [
    "a=10\n",
    "b=15\n",
    "if(b>a):\n",
    "    print(\"b sayısı a sayısından büyüktür\")"
   ]
  },
  {
   "cell_type": "code",
   "execution_count": 11,
   "metadata": {},
   "outputs": [
    {
     "name": "stdout",
     "output_type": "stream",
     "text": [
      "sayıyı giriniz=-90\n",
      "negatif bir sayı girdiniz\n"
     ]
    }
   ],
   "source": [
    "# girilen sayının 50 ile 100 arasında olup olmadığını gösterin.\n",
    "\n",
    "sayi=int(input(\"sayıyı giriniz=\"))\n",
    "\n",
    "if (sayi>0 and sayi<50):\n",
    "    print(\"50 den küçük bir sayı girdiniz\")\n",
    "elif (sayi>=50 and sayi<100):\n",
    "    print(\"sayi 50 ile 100 arasındadır.\")\n",
    "elif (sayi>=100):\n",
    "    print(\"100 den büyük bir sayı girdiniz\")\n",
    "elif (sayi<0):\n",
    "    print(\"negatif bir sayı girdiniz\")"
   ]
  },
  {
   "cell_type": "code",
   "execution_count": 12,
   "metadata": {},
   "outputs": [
    {
     "name": "stdout",
     "output_type": "stream",
     "text": [
      "sayıyı giriniz=21\n",
      "girilen sayı tektir\n"
     ]
    }
   ],
   "source": [
    "# girilen sayının tek mi çift mi olduğunu gösteriniz:\n",
    "sayi=int(input(\"sayıyı giriniz=\"))\n",
    "\n",
    "if (sayi%2==0):\n",
    "    print(\"girilen sayı çifttir\")\n",
    "elif (sayi%2!=0) :\n",
    "    print(\"girilen sayı tektir\")"
   ]
  },
  {
   "cell_type": "code",
   "execution_count": 21,
   "metadata": {},
   "outputs": [
    {
     "name": "stdout",
     "output_type": "stream",
     "text": [
      "kullanıcı adını giriniz=ali\n",
      "kullanıcı şifresini giriniz=1234\n",
      "kullanıcı adını yanlış giriş yaptınız\n"
     ]
    }
   ],
   "source": [
    "# username ve parola bilgileri ile giriş yapınız:\n",
    "\n",
    "user_name=input(\"kullanıcı adını giriniz=\")\n",
    "password=input(\"kullanıcı şifresini giriniz=\")\n",
    "\n",
    "if (user_name==\"mehmet\" and password==\"1234\"):\n",
    "    print(\"doğru giriş yaptınız tebrikler\")\n",
    "elif (user_name==\"mehmet\" or password!=\"1234\"):\n",
    "    print(\"şifreyi yanlış giriş yaptınız\")\n",
    "elif (user_name!=\"mehmet\" or password==\"1234\"):\n",
    "    print(\"kullanıcı adını yanlış giriş yaptınız\")  \n",
    "else:\n",
    "    print(\"yanlış girdiniz\")\n",
    "    \n",
    "    \n"
   ]
  },
  {
   "cell_type": "code",
   "execution_count": 23,
   "metadata": {},
   "outputs": [
    {
     "name": "stdout",
     "output_type": "stream",
     "text": [
      "vize notunuzu giriniz=20\n",
      "dönem sonu notunuzu giriniz=50\n",
      "final notunuzu giriniz=95\n",
      "ortalamanız=55.0\n",
      "sorumlu geçtiniz\n"
     ]
    }
   ],
   "source": [
    "# öğrencinin vize dönem sonu ve final notlarını alıp hesaplayan programı yazınız?\n",
    "\n",
    "vize_notu=float(input(\"vize notunuzu giriniz=\"))\n",
    "donem_notu=float(input(\"dönem sonu notunuzu giriniz=\"))\n",
    "final=float(input(\"final notunuzu giriniz=\"))\n",
    "ort=(vize_notu+donem_notu+final)/3\n",
    "\n",
    "if (ort>=0 and ort<30):\n",
    "    print(\"ortalamanız={}\".format(str(ort)))\n",
    "    print(\"Sınıf tekrarı büte girme hakkı yok\")\n",
    "elif (ort>=30 and ort<50):\n",
    "    print(\"ortalamanız={}\".format(str(ort)))\n",
    "    print(\"Sınavdan bütlere kaldınız\")\n",
    "elif (ort>=50 and ort<60):\n",
    "    print(\"ortalamanız={}\".format(str(ort)))\n",
    "    print(\"sorumlu geçtiniz\")\n",
    "elif (ort>=60 and ort<70):\n",
    "    print(\"ortalamanız={}\".format(str(ort)))\n",
    "    print(\"sınıfı geçtiniz\")\n",
    "elif(ort>=70 and ort<=100):\n",
    "    print(\"ortalamanız={}\".format(str(ort)))\n",
    "    print(\"tebrikler takdir aldınız\")"
   ]
  },
  {
   "cell_type": "code",
   "execution_count": null,
   "metadata": {},
   "outputs": [],
   "source": []
  }
 ],
 "metadata": {
  "kernelspec": {
   "display_name": "Python 3",
   "language": "python",
   "name": "python3"
  },
  "language_info": {
   "codemirror_mode": {
    "name": "ipython",
    "version": 3
   },
   "file_extension": ".py",
   "mimetype": "text/x-python",
   "name": "python",
   "nbconvert_exporter": "python",
   "pygments_lexer": "ipython3",
   "version": "3.8.5"
  }
 },
 "nbformat": 4,
 "nbformat_minor": 4
}
