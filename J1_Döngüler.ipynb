{
 "cells": [
  {
   "cell_type": "markdown",
   "metadata": {},
   "source": [
    "1-) FOR DÖNGÜLERİ:"
   ]
  },
  {
   "cell_type": "code",
   "execution_count": 1,
   "metadata": {},
   "outputs": [
    {
     "name": "stdout",
     "output_type": "stream",
     "text": [
      "1\n",
      "4\n",
      "7\n",
      "5\n",
      "6\n",
      "8\n"
     ]
    }
   ],
   "source": [
    "sayilar = [1,4,7,5,6,8]\n",
    "for i in sayilar:\n",
    "    print(i)"
   ]
  },
  {
   "cell_type": "code",
   "execution_count": 2,
   "metadata": {},
   "outputs": [
    {
     "name": "stdout",
     "output_type": "stream",
     "text": [
      "Merhaba Dünya\n",
      "Merhaba Dünya\n",
      "Merhaba Dünya\n",
      "Merhaba Dünya\n",
      "Merhaba Dünya\n",
      "Merhaba Dünya\n"
     ]
    }
   ],
   "source": [
    "for i in sayilar:\n",
    "    print(\"Merhaba Dünya\")"
   ]
  },
  {
   "cell_type": "code",
   "execution_count": 3,
   "metadata": {},
   "outputs": [
    {
     "name": "stdout",
     "output_type": "stream",
     "text": [
      "P\n",
      "y\n",
      "t\n",
      "h\n",
      "o\n",
      "n\n",
      " \n",
      "d\n",
      "e\n",
      "r\n",
      "s\n",
      "l\n",
      "e\n",
      "r\n",
      "i\n",
      "m\n",
      "i\n",
      "z\n",
      "e\n",
      " \n",
      "h\n",
      "o\n",
      "ş\n",
      "g\n",
      "e\n",
      "l\n",
      "d\n",
      "i\n",
      "n\n",
      "i\n",
      "z\n"
     ]
    }
   ],
   "source": [
    "p=\"Python derslerimize hoşgeldiniz\"\n",
    "for i in p:\n",
    "    print(i)"
   ]
  },
  {
   "cell_type": "code",
   "execution_count": 4,
   "metadata": {},
   "outputs": [
    {
     "name": "stdout",
     "output_type": "stream",
     "text": [
      "1 2\n",
      "3 4\n",
      "5 6\n"
     ]
    }
   ],
   "source": [
    "liste=[(1,2),(3,4),(5,6)]\n",
    "for i,j in liste:\n",
    "    print(i,j)"
   ]
  },
  {
   "cell_type": "code",
   "execution_count": 11,
   "metadata": {},
   "outputs": [
    {
     "name": "stdout",
     "output_type": "stream",
     "text": [
      "one 1\n",
      "two 2\n",
      "three 3\n",
      "four 4\n"
     ]
    }
   ],
   "source": [
    "dictionary={\"one\":1,\"two\":2,\"three\":3,\"four\":4}\n",
    "for i,j in dictionary.items(): # => bu yolla sadece keys kelimelere ulaşırsın.\n",
    "    print(i,j)"
   ]
  },
  {
   "cell_type": "markdown",
   "metadata": {},
   "source": [
    "FOR DÖNGÜSÜ UYGULAMA:"
   ]
  },
  {
   "cell_type": "code",
   "execution_count": 12,
   "metadata": {},
   "outputs": [],
   "source": [
    "sayilar=[1,5,15,35,57,72]"
   ]
  },
  {
   "cell_type": "code",
   "execution_count": 13,
   "metadata": {},
   "outputs": [
    {
     "name": "stdout",
     "output_type": "stream",
     "text": [
      "1\n",
      "5\n",
      "15\n",
      "35\n",
      "57\n",
      "72\n"
     ]
    }
   ],
   "source": [
    "# sayilar listesindeki elemanları yazdırın:\n",
    "\n",
    "for i in sayilar:\n",
    "    print(i)"
   ]
  },
  {
   "cell_type": "code",
   "execution_count": 14,
   "metadata": {},
   "outputs": [
    {
     "name": "stdout",
     "output_type": "stream",
     "text": [
      "5\n",
      "15\n",
      "35\n"
     ]
    }
   ],
   "source": [
    "# 5 in katı olan sayılar:\n",
    "for i in sayilar:\n",
    "    if i%5==0:\n",
    "        print(i)"
   ]
  },
  {
   "cell_type": "code",
   "execution_count": 15,
   "metadata": {},
   "outputs": [
    {
     "name": "stdout",
     "output_type": "stream",
     "text": [
      "185\n"
     ]
    }
   ],
   "source": [
    "# listedeki sayıların toplamı:\n",
    "toplam=0\n",
    "for i in sayilar:\n",
    "    toplam=i+toplam\n",
    "print(toplam)    "
   ]
  },
  {
   "cell_type": "code",
   "execution_count": 17,
   "metadata": {},
   "outputs": [
    {
     "name": "stdout",
     "output_type": "stream",
     "text": [
      "72\n"
     ]
    }
   ],
   "source": [
    "# listedeki çift sayıların karesi:\n",
    "kare=1\n",
    "for i in sayilar:\n",
    "    if i%2==0:\n",
    "        kare=i**kare\n",
    "print(kare)        "
   ]
  },
  {
   "cell_type": "code",
   "execution_count": 18,
   "metadata": {},
   "outputs": [
    {
     "name": "stdout",
     "output_type": "stream",
     "text": [
      "Hello\n",
      "Hello\n",
      "Hello\n",
      "Hello\n",
      "Hello\n",
      "Hello\n",
      "Hello\n",
      "Hello\n",
      "Hello\n"
     ]
    }
   ],
   "source": [
    "for i in range(1,10):\n",
    "    print(\"Hello\")"
   ]
  },
  {
   "cell_type": "code",
   "execution_count": 19,
   "metadata": {},
   "outputs": [
    {
     "name": "stdout",
     "output_type": "stream",
     "text": [
      "ilk sayıyı giriniz=10\n",
      "ikinci sayıyı giriniz=23\n",
      "11\n",
      "13\n",
      "15\n",
      "17\n",
      "19\n",
      "21\n"
     ]
    }
   ],
   "source": [
    "# başlangıç ve bitiş değerlerini kullanıcıdan alıp tüm tek sayıları yazdırınız:\n",
    "\n",
    "sayi1=int(input(\"ilk sayıyı giriniz=\"))\n",
    "sayi2=int(input(\"ikinci sayıyı giriniz=\"))\n",
    "for sayi1 in range(sayi1+1,sayi2):\n",
    "    if sayi1%2!=0:\n",
    "        print(sayi1)"
   ]
  },
  {
   "cell_type": "code",
   "execution_count": 32,
   "metadata": {},
   "outputs": [
    {
     "name": "stdout",
     "output_type": "stream",
     "text": [
      "[99, 98, 97, 96, 95, 94, 93, 92, 91, 90, 89, 88, 87, 86, 85, 84, 83, 82, 81, 80, 79, 78, 77, 76, 75, 74, 73, 72, 71, 70, 69, 68, 67, 66, 65, 64, 63, 62, 61, 60, 59, 58, 57, 56, 55, 54, 53, 52, 51, 50, 49, 48, 47, 46, 45, 44, 43, 42, 41, 40, 39, 38, 37, 36, 35, 34, 33, 32, 31, 30, 29, 28, 27, 26, 25, 24, 23, 22, 21, 20, 19, 18, 17, 16, 15, 14, 13, 12, 11, 10, 9, 8, 7, 6, 5, 4, 3, 2, 1]\n"
     ]
    }
   ],
   "source": [
    "# 1- 100 arasındaki sayıları büyükten küçüğe sıralayınız:\n",
    "liste=list()\n",
    "for i in range(1,100):\n",
    "    liste.append(i)\n",
    "liste.reverse()\n",
    "print(liste)"
   ]
  },
  {
   "cell_type": "code",
   "execution_count": 40,
   "metadata": {},
   "outputs": [
    {
     "name": "stdout",
     "output_type": "stream",
     "text": [
      "kaç tane ürün girmek istiyorsunuz:4\n",
      "Girmek istediğiniz=0.inci ürün=Arçelik\n",
      "Girmek istediğiniz=1.inci ürün=Beko\n",
      "Girmek istediğiniz=2.inci ürün=Bosch\n",
      "Girmek istediğiniz=3.inci ürün=İphone 856\n",
      "['Arçelik', 'Beko', 'Bosch', 'İphone 856']\n"
     ]
    }
   ],
   "source": [
    "# kullanıcıdan sınırsız ürün bilgisi alıp saklayınız:\n",
    "adet=int(input(\"kaç tane ürün girmek istiyorsunuz:\"))\n",
    "urunler=[]\n",
    "\n",
    "for i in range(0,adet):\n",
    "    malzeme=input(\"Girmek istediğiniz={}.inci ürün=\".format(i))\n",
    "    urunler.append(malzeme)\n",
    "print(urunler)    \n",
    "    "
   ]
  },
  {
   "cell_type": "markdown",
   "metadata": {},
   "source": [
    "break ve continue:"
   ]
  },
  {
   "cell_type": "code",
   "execution_count": 43,
   "metadata": {},
   "outputs": [
    {
     "name": "stdout",
     "output_type": "stream",
     "text": [
      "1\n",
      "2\n",
      "3\n",
      "4\n",
      "5\n"
     ]
    }
   ],
   "source": [
    "for i in range(1,10):\n",
    "    if i==6:\n",
    "        break\n",
    "    print(i)    "
   ]
  },
  {
   "cell_type": "code",
   "execution_count": 44,
   "metadata": {},
   "outputs": [
    {
     "name": "stdout",
     "output_type": "stream",
     "text": [
      "1\n",
      "2\n",
      "3\n",
      "4\n",
      "5\n",
      "6\n",
      "8\n",
      "9\n"
     ]
    }
   ],
   "source": [
    "for i in range(1,10):\n",
    "    if i==7:\n",
    "        continue\n",
    "    print(i)    "
   ]
  },
  {
   "cell_type": "code",
   "execution_count": 46,
   "metadata": {},
   "outputs": [
    {
     "name": "stdout",
     "output_type": "stream",
     "text": [
      "2450\n"
     ]
    }
   ],
   "source": [
    "# 1 ile 100 arası çift sayılar toplamı:\n",
    "toplam=0\n",
    "for i in range(1,100):\n",
    "    if i%2==0:\n",
    "        toplam=toplam+i\n",
    "print(toplam)        "
   ]
  },
  {
   "cell_type": "code",
   "execution_count": null,
   "metadata": {},
   "outputs": [],
   "source": []
  }
 ],
 "metadata": {
  "kernelspec": {
   "display_name": "Python 3",
   "language": "python",
   "name": "python3"
  },
  "language_info": {
   "codemirror_mode": {
    "name": "ipython",
    "version": 3
   },
   "file_extension": ".py",
   "mimetype": "text/x-python",
   "name": "python",
   "nbconvert_exporter": "python",
   "pygments_lexer": "ipython3",
   "version": "3.8.5"
  }
 },
 "nbformat": 4,
 "nbformat_minor": 4
}
