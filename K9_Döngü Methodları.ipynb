{
 "cells": [
  {
   "cell_type": "code",
   "execution_count": 1,
   "metadata": {},
   "outputs": [],
   "source": [
    "# 1-) range methodu:"
   ]
  },
  {
   "cell_type": "code",
   "execution_count": 3,
   "metadata": {},
   "outputs": [
    {
     "name": "stdout",
     "output_type": "stream",
     "text": [
      "20\n"
     ]
    }
   ],
   "source": [
    "toplam=0\n",
    "for i in range(1,10):\n",
    "    if i%2==0:\n",
    "        toplam=toplam+i\n",
    "print(toplam)        "
   ]
  },
  {
   "cell_type": "code",
   "execution_count": 4,
   "metadata": {},
   "outputs": [],
   "source": [
    "# 2-) enumerate().zip() methodu:"
   ]
  },
  {
   "cell_type": "code",
   "execution_count": 24,
   "metadata": {},
   "outputs": [
    {
     "name": "stdout",
     "output_type": "stream",
     "text": [
      "1. marka=opel\n",
      "2. marka=Mercedes\n",
      "3. marka=Mazda\n",
      "4. marka=Bmw\n"
     ]
    }
   ],
   "source": [
    "markalar=[\"opel\",\"Mercedes\",\"Mazda\",\"Bmw\"]\n",
    "obj=enumerate(markalar)\n",
    "for index,value in obj:\n",
    "    print(\"{}. marka={}\".format(index+1,value))"
   ]
  },
  {
   "cell_type": "code",
   "execution_count": 27,
   "metadata": {},
   "outputs": [],
   "source": [
    "liste1=[1,3,5,7]\n",
    "liste2=[10,12,14,16]\n",
    "liste3=[13,15,17,19]\n",
    "\n",
    "liste4=list()\n",
    "liste4.append(liste1)\n",
    "liste4.append(liste2)\n",
    "liste4.append(liste3)"
   ]
  },
  {
   "cell_type": "code",
   "execution_count": 29,
   "metadata": {},
   "outputs": [
    {
     "name": "stdout",
     "output_type": "stream",
     "text": [
      "[1, 3, 5, 7]\n",
      "[10, 12, 14, 16]\n",
      "[13, 15, 17, 19]\n"
     ]
    }
   ],
   "source": [
    "for x in liste4:\n",
    "    print(x)"
   ]
  },
  {
   "cell_type": "code",
   "execution_count": 30,
   "metadata": {},
   "outputs": [
    {
     "name": "stdout",
     "output_type": "stream",
     "text": [
      "1 10 13\n",
      "3 12 15\n",
      "5 14 17\n",
      "7 16 19\n"
     ]
    }
   ],
   "source": [
    "for x,y,z in zip(liste1,liste2,liste3):\n",
    "    print(x,y,z)"
   ]
  },
  {
   "cell_type": "code",
   "execution_count": 31,
   "metadata": {},
   "outputs": [
    {
     "name": "stdout",
     "output_type": "stream",
     "text": [
      "sayı=1 ve çarpım=1\n",
      "sayı=2 ve çarpım=2\n",
      "sayı=3 ve çarpım=6\n",
      "sayı=4 ve çarpım=24\n",
      "sayı=5 ve çarpım=120\n",
      "sayı=6 ve çarpım=720\n",
      "sayı=7 ve çarpım=5040\n",
      "sayı=8 ve çarpım=40320\n",
      "sayı=9 ve çarpım=362880\n",
      "sayı=10 ve çarpım=3628800\n"
     ]
    }
   ],
   "source": [
    "fak=1\n",
    "for i in range(1,11):\n",
    "    fak=fak*i\n",
    "    print(\"sayı={} ve çarpım={}\".format(i,fak))"
   ]
  },
  {
   "cell_type": "code",
   "execution_count": 41,
   "metadata": {},
   "outputs": [
    {
     "name": "stdout",
     "output_type": "stream",
     "text": [
      "sayıyı giriniz=17\n",
      "sayı asaldır\n"
     ]
    }
   ],
   "source": [
    "# asal sayı uygulaması:\n",
    "asalmı=True\n",
    "sayi=int(input(\"sayıyı giriniz=\"))\n",
    "for i in range(2,sayi):\n",
    "    if sayi%i==0:\n",
    "        asalmı=False   \n",
    "if asalmı==True:\n",
    "    print(\"sayı asaldır\")\n",
    "elif asalmı==False:\n",
    "    print(\"sayı asal değildir\")"
   ]
  },
  {
   "cell_type": "markdown",
   "metadata": {},
   "source": [
    "RANDOM KULLANIMI:"
   ]
  },
  {
   "cell_type": "code",
   "execution_count": 42,
   "metadata": {},
   "outputs": [],
   "source": [
    "import random"
   ]
  },
  {
   "cell_type": "code",
   "execution_count": 45,
   "metadata": {},
   "outputs": [
    {
     "name": "stdout",
     "output_type": "stream",
     "text": [
      "sayıyı giriniz=10\n",
      "Yanlış tahminde bulundunuz\n",
      "tahmin =95\n",
      "puanınız=20\n",
      "sayıyı giriniz=43\n",
      "Yanlış tahminde bulundunuz\n",
      "tahmin =18\n",
      "puanınız=10\n",
      "sayıyı giriniz=50\n",
      "Yanlış tahminde bulundunuz\n",
      "tahmin =32\n",
      "puanınız=0\n"
     ]
    }
   ],
   "source": [
    "# 1-100 arası sayı tahmin oyunu oynayın 3 hakkın var:\n",
    "\n",
    "puan=30\n",
    "for i in range(1,4):\n",
    "    tahmin=random.randint(1,100)\n",
    "    sayi=int(input(\"sayıyı giriniz=\"))\n",
    "    if tahmin==sayi:\n",
    "        print(\"doğru tahminde bulundunuz\")\n",
    "        print(\"tahmin ={}\".format(tahmin))\n",
    "        puan=puan+10\n",
    "        print(\"puanınız={}\".format(puan))\n",
    "    else:\n",
    "        print(\"Yanlış tahminde bulundunuz\")\n",
    "        print(\"tahmin ={}\".format(tahmin))\n",
    "        puan=puan-10\n",
    "        print(\"puanınız={}\".format(puan))\n",
    "    if i==4:\n",
    "        break"
   ]
  },
  {
   "cell_type": "code",
   "execution_count": 5,
   "metadata": {},
   "outputs": [
    {
     "name": "stdout",
     "output_type": "stream",
     "text": [
      "çift sayıların toplamı=2450\n"
     ]
    }
   ],
   "source": [
    "toplam=0 # toplam da 0 etkisiz elemandır.\n",
    "for i in range(1,100): # 100 dahil değil\n",
    "    if i%2==0: # çift sayılar her zaman 2 ye tam bölünür.\n",
    "        toplam=toplam+i\n",
    "print(\"çift sayıların toplamı={}\".format(str(toplam)))    "
   ]
  },
  {
   "cell_type": "code",
   "execution_count": 10,
   "metadata": {},
   "outputs": [],
   "source": [
    "def maas_hesapla2():\n",
    "    hafta_ucret=200 # haftalık ücreti 200 dolar\n",
    "    hafta_saat=int(input(\"Mary hanım bu hafta kaç saat çalıştı= \")) # Mary hanım bu hafta kaç saat çalıştı giriniz.\n",
    "    if hafta_saat<40: # eğer bu hafta izin kullanıp 40 saatten az çalıştıysa 50 dolar eksik alır.\n",
    "        if hafta_saat==0:\n",
    "            print(\"hiçbir ücret alamazsınız.\")\n",
    "        for i in range(1,sayi+1):\n",
    "            i=i-10\n",
    "        print(f\"bu hafta çalıştığı saat={hafta_saat}, 40 saatten az çalıştığın için ücret={hafta_ucret-i}\")\n",
    "    elif hafta_saat == 40: # eğer bu hafta 40 saat çalıştıysa normal haftalık ücreti alır.\n",
    "        print(hafta_ucret)\n",
    "    elif hafta_saat > 40:  # eğer 40 saatten fazla çalıştıysa, çalıştığı 40 saat sonrası için saat başı 15 dolar fazla alır. \n",
    "        for i in range(41,hafta_saat+1):\n",
    "            i+=15\n",
    "        print(i+hafta_ucret)\n",
    "    elif hafta_saat>=100:\n",
    "        print(\"İşletmeniz su işlemektedir. Bir çalışan bu kadar çalıştırılamaz\")"
   ]
  },
  {
   "cell_type": "code",
   "execution_count": 12,
   "metadata": {},
   "outputs": [
    {
     "name": "stdout",
     "output_type": "stream",
     "text": [
      "Mary hanım bu hafta kaç saat çalıştı= 80\n",
      "290\n"
     ]
    }
   ],
   "source": [
    "maas_hesapla()"
   ]
  },
  {
   "cell_type": "code",
   "execution_count": null,
   "metadata": {},
   "outputs": [],
   "source": []
  },
  {
   "cell_type": "code",
   "execution_count": 18,
   "metadata": {},
   "outputs": [],
   "source": [
    "def cofe_make():\n",
    "    yapıma_basla=input(\"Kahve yapımına başlamak için lütfen EVET diyerek onaylayın\")\n",
    "    if yapıma_basla==\"EVET\" :\n",
    "        print(\"kahve makinasına kahve eklendi\")\n",
    "        print(\"kahve mkinasına su ekleyiniz\")\n",
    "        print(\"kahve makinasının start tuşuna basın ve başlatın\")\n",
    "        print(\"kahve hazırlandı bardağa kahve doldurabilirsiniz\")\n",
    "        seker_iste=input(\"şeker ister misiniz?=\")\n",
    "        if seker_iste==\"Evet\":\n",
    "            print(\"şekeriniz eklenmiştir.\")\n",
    "        elif seker_iste==\"Hayır\":\n",
    "            print(\"kahveniz şekersiz hazır\")\n",
    "        print(\"kahveniz hazır\")    \n",
    "        kac_bardak=int(input(\"kaç bardak içersiniz\"))\n",
    "        if kac_bardak==2 or kac_bardak==3:\n",
    "            for i in range(1,kac_bardak):\n",
    "                print(f\"{i}. bardak hazır\")\n",
    "                print(\"Afiyet olsun\")\n",
    "        elif kac_bardak>3:\n",
    "            print(\"makinada 3 bardaktan fazla çıkmaz\")\n",
    "        elif kac_bardak<0:\n",
    "            print(\"yanlış değer girdiniz\")\n",
    "    elif yapıma_basla==\"HAYIR\":\n",
    "        print(\"Kahve içemeyeceksiniz\")"
   ]
  },
  {
   "cell_type": "code",
   "execution_count": 20,
   "metadata": {},
   "outputs": [
    {
     "name": "stdout",
     "output_type": "stream",
     "text": [
      "Kahve yapımına başlamak için lütfen EVET diyerek onaylayınEVET\n",
      "kahve makinasına kahve eklendi\n",
      "kahve mkinasına su ekleyiniz\n",
      "kahve makinasının start tuşuna basın ve başlatın\n",
      "kahve hazırlandı bardağa kahve doldurabilirsiniz\n",
      "şeker ister misiniz?=Evet\n",
      "şekeriniz eklenmiştir.\n",
      "kahveniz hazır\n",
      "kaç bardak içersiniz-3\n",
      "yanlış değer girdiniz\n"
     ]
    }
   ],
   "source": [
    "cofe_make()"
   ]
  },
  {
   "cell_type": "code",
   "execution_count": 25,
   "metadata": {},
   "outputs": [],
   "source": [
    "def dizi_gir():\n",
    "    dizi=int(input(\"lütfen girmek istediğiniz sayıları giriniz\"))\n",
    "    liste=list()\n",
    "    toplam=0\n",
    "    for i in range(0,dizi):\n",
    "        toplam=toplam+i\n",
    "        liste.append(toplam)\n",
    "    print(liste)    "
   ]
  },
  {
   "cell_type": "code",
   "execution_count": 26,
   "metadata": {},
   "outputs": [
    {
     "name": "stdout",
     "output_type": "stream",
     "text": [
      "lütfen girmek istediğiniz sayıları giriniz15\n",
      "[0, 1, 3, 6, 10, 15, 21, 28, 36, 45, 55, 66, 78, 91, 105]\n"
     ]
    }
   ],
   "source": [
    "dizi_gir()"
   ]
  },
  {
   "cell_type": "code",
   "execution_count": 27,
   "metadata": {},
   "outputs": [],
   "source": [
    "import random"
   ]
  },
  {
   "cell_type": "code",
   "execution_count": 28,
   "metadata": {},
   "outputs": [],
   "source": [
    "import math"
   ]
  },
  {
   "cell_type": "code",
   "execution_count": 32,
   "metadata": {},
   "outputs": [
    {
     "name": "stdout",
     "output_type": "stream",
     "text": [
      "sayı tahmin oyununa hoşgeldiniz\n",
      "4 tane hakkınız var dikkatli olun\n",
      "başlangıç puanınız=30\n",
      "lütfen tahmininizi giriniz= 75\n",
      "Malesef tahmininiz büyüktür. Sayınız=75, tahmin edilen=52, puan=20\n",
      "lütfen tahmininizi giriniz= 85\n",
      "Malesef tahmininiz büyüktür. Sayınız=85, tahmin edilen=19, puan=10\n",
      "lütfen tahmininizi giriniz= 87\n",
      "Malesef tahmininiz büyüktür. Sayınız=87, tahmin edilen=42, puan=0\n"
     ]
    }
   ],
   "source": [
    "print(\"sayı tahmin oyununa hoşgeldiniz\")\n",
    "print(\"4 tane hakkınız var dikkatli olun\")\n",
    "puan=30\n",
    "print(\"başlangıç puanınız={}\".format(str(puan)))\n",
    "tahmin_hakki=4\n",
    "for i in range(0,tahmin_hakki):\n",
    "    sayi=int(input(\"lütfen tahmininizi giriniz= \"))\n",
    "    tahmin=random.randint(1,100)\n",
    "    if sayi==tahmin:\n",
    "        puan+=10\n",
    "        print(f\"Tebrik ederim sayınız={sayi}, tahmin edilen={tahmin}, puanınız={puan}\")\n",
    "    elif sayi>tahmin:\n",
    "        puan-=10\n",
    "        print(f\"Malesef tahmininiz büyüktür. Sayınız={sayi}, tahmin edilen={tahmin}, puan={puan}\")\n",
    "    elif sayi<tahmin:\n",
    "        puan-=10\n",
    "        print(f\"Malesef tahmininiz küçüktür. Sayınız={sayi}, tahmin edilen={tahmin}, puan={puan}\")\n",
    "    if puan== 0:\n",
    "        break\n",
    "        "
   ]
  },
  {
   "cell_type": "code",
   "execution_count": 40,
   "metadata": {},
   "outputs": [],
   "source": [
    "class Sans_oyunu():\n",
    "    def __init__(self):\n",
    "        print(\"Şans Oyununa Hoşgeldiniz...\")\n",
    "        print(\"4 tane hakkınız var dikkatli olun\")\n",
    "        print(\"Başlangıç puanınız 30\")\n",
    "        \n",
    "        \n",
    "    def oyuna_basla(self):\n",
    "        tahmin_hakki=4\n",
    "        puan=30\n",
    "        for i in range(0,tahmin_hakki):\n",
    "            sayi=int(input(\"Lütfen sayıyı giriniz= \"))\n",
    "            tahmin=random.randint(1,100)\n",
    "            if sayi==tahmin:\n",
    "                puan=puan+10\n",
    "                print(f\"Tebrik ederiz sayi={sayi}, tahmin edilen={tahmin}, puanınız={puan}\")\n",
    "            elif sayi>tahmin:\n",
    "                puan=puan-10\n",
    "                print(f\"Maalesef büyük değer söylediniz. sayınız={sayi}, tahmin edilen={tahmin}, puanınız={puan}\")\n",
    "            elif sayi<tahmin:\n",
    "                puan=puan-10\n",
    "                print(f\"Maalesef küçük değer söylediniz. sayınız={sayi}, tahmin edilen={tahmin}, puanınız={puan}\")\n",
    "            if puan==0:\n",
    "                break\n",
    "            "
   ]
  },
  {
   "cell_type": "code",
   "execution_count": 41,
   "metadata": {},
   "outputs": [
    {
     "name": "stdout",
     "output_type": "stream",
     "text": [
      "Şans Oyununa Hoşgeldiniz...\n",
      "4 tane hakkınız var dikkatli olun\n",
      "Başlangıç puanınız 30\n"
     ]
    }
   ],
   "source": [
    "oyna=Sans_oyunu()"
   ]
  },
  {
   "cell_type": "code",
   "execution_count": 42,
   "metadata": {},
   "outputs": [
    {
     "name": "stdout",
     "output_type": "stream",
     "text": [
      "Lütfen sayıyı giriniz= 15\n",
      "Maalesef büyük değer söylediniz. sayınız=15, tahmin edilen=9, puanınız=20\n",
      "Lütfen sayıyı giriniz= 70\n",
      "Maalesef küçük değer söylediniz. sayınız=70, tahmin edilen=88, puanınız=10\n",
      "Lütfen sayıyı giriniz= 80\n",
      "Maalesef büyük değer söylediniz. sayınız=80, tahmin edilen=65, puanınız=0\n"
     ]
    }
   ],
   "source": [
    "oyna.oyuna_basla()"
   ]
  },
  {
   "cell_type": "code",
   "execution_count": 1,
   "metadata": {},
   "outputs": [],
   "source": [
    "def maas_hesapla2():\n",
    "    hafta_ucret=200 # haftalık ücreti 200 dolar\n",
    "    hafta_saat=int(input(\"Mary hanım bu hafta kaç saat çalıştı= \")) # Mary hanım bu hafta kaç saat çalıştı giriniz.\n",
    "    saat_bası_ucret= -150\n",
    "    print(\"Firmamızdaki 40 saat harici saat başı ücret=15 dolar\")\n",
    "    \n",
    "    if hafta_saat==0:\n",
    "        print(\"Bu hafta ödeme alamayacaksınız...\")\n",
    "        \n",
    "    if hafta_saat<40:\n",
    "        for i in range(1,hafta_saat+1):\n",
    "            saat_bası_ucret+=3\n",
    "        print(f\"Toplam başı kesilecek ücreti={saat_bası_ucret}\")\n",
    "        deger=hafta_ucret+saat_bası_ucret\n",
    "        print(\"bu hafta alacağı={}\".format(deger))\n",
    "         \n",
    "    elif hafta_saat == 40: # eğer bu hafta 40 saat çalıştıysa normal haftalık ücreti alır.\n",
    "        print(hafta_ucret)\n",
    "        \n",
    "    elif hafta_saat > 40:  # eğer 40 saatten fazla çalıştıysa, çalıştığı 40 saat sonrası için saat başı 15 dolar fazla alır. \n",
    "        for i in range(41,hafta_saat+1):\n",
    "            i+=15\n",
    "        print(i+hafta_ucret)\n",
    "    elif hafta_saat>=100:\n",
    "        print(\"İşletmeniz su işlemektedir. Bir çalışan bu kadar çalıştırılamaz\")            "
   ]
  },
  {
   "cell_type": "code",
   "execution_count": 5,
   "metadata": {},
   "outputs": [
    {
     "name": "stdout",
     "output_type": "stream",
     "text": [
      "Mary hanım bu hafta kaç saat çalıştı= 39\n",
      "Firmamızdaki 40 saat harici saat başı ücret=15 dolar\n",
      "Toplam başı kesilecek ücreti=-33\n",
      "bu hafta alacağı=167\n"
     ]
    }
   ],
   "source": [
    "maas_hesapla2()"
   ]
  },
  {
   "cell_type": "code",
   "execution_count": null,
   "metadata": {},
   "outputs": [],
   "source": []
  },
  {
   "cell_type": "code",
   "execution_count": null,
   "metadata": {},
   "outputs": [],
   "source": [
    "    "
   ]
  },
  {
   "cell_type": "code",
   "execution_count": null,
   "metadata": {},
   "outputs": [],
   "source": []
  },
  {
   "cell_type": "code",
   "execution_count": null,
   "metadata": {},
   "outputs": [],
   "source": []
  },
  {
   "cell_type": "code",
   "execution_count": null,
   "metadata": {},
   "outputs": [],
   "source": []
  }
 ],
 "metadata": {
  "kernelspec": {
   "display_name": "Python 3",
   "language": "python",
   "name": "python3"
  },
  "language_info": {
   "codemirror_mode": {
    "name": "ipython",
    "version": 3
   },
   "file_extension": ".py",
   "mimetype": "text/x-python",
   "name": "python",
   "nbconvert_exporter": "python",
   "pygments_lexer": "ipython3",
   "version": "3.8.5"
  }
 },
 "nbformat": 4,
 "nbformat_minor": 4
}
