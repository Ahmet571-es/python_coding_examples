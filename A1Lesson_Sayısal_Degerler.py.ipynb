{
 "cells": [
  {
   "cell_type": "code",
   "execution_count": 2,
   "metadata": {},
   "outputs": [
    {
     "name": "stdout",
     "output_type": "stream",
     "text": [
      "6.28\n",
      "5.140000000000001\n"
     ]
    }
   ],
   "source": [
    "x=2 # int değerdir\n",
    "y=3.14 # float sayı değeridir\n",
    "print(x*y) # int * flaot veya int / float ve toplama veya çokarma yapılırsa float olur.\n",
    "print(x+y) "
   ]
  },
  {
   "cell_type": "code",
   "execution_count": 5,
   "metadata": {},
   "outputs": [
    {
     "data": {
      "text/plain": [
       "float"
      ]
     },
     "execution_count": 5,
     "metadata": {},
     "output_type": "execute_result"
    }
   ],
   "source": [
    "type(3.14) # float değerdir"
   ]
  },
  {
   "cell_type": "code",
   "execution_count": 6,
   "metadata": {},
   "outputs": [
    {
     "data": {
      "text/plain": [
       "int"
      ]
     },
     "execution_count": 6,
     "metadata": {},
     "output_type": "execute_result"
    }
   ],
   "source": [
    "type(2) # int değerdir"
   ]
  },
  {
   "cell_type": "code",
   "execution_count": 7,
   "metadata": {},
   "outputs": [
    {
     "data": {
      "text/plain": [
       "str"
      ]
     },
     "execution_count": 7,
     "metadata": {},
     "output_type": "execute_result"
    }
   ],
   "source": [
    "type(\"2\") # string değerdir"
   ]
  },
  {
   "cell_type": "markdown",
   "metadata": {},
   "source": [
    "SAYISAL OPERATÖRLER:\n"
   ]
  },
  {
   "cell_type": "code",
   "execution_count": 9,
   "metadata": {},
   "outputs": [
    {
     "name": "stdout",
     "output_type": "stream",
     "text": [
      "8\n"
     ]
    }
   ],
   "source": [
    " # + toplama operatörüdür:\n",
    "print(3+5)"
   ]
  },
  {
   "cell_type": "code",
   "execution_count": 13,
   "metadata": {},
   "outputs": [
    {
     "name": "stdout",
     "output_type": "stream",
     "text": [
      "8\n"
     ]
    }
   ],
   "source": [
    "x=6\n",
    "x+=2 # +=2 demek üzerine 2 eklemek demektir.\n",
    "print(x)"
   ]
  },
  {
   "cell_type": "code",
   "execution_count": 14,
   "metadata": {},
   "outputs": [
    {
     "name": "stdout",
     "output_type": "stream",
     "text": [
      "1\n"
     ]
    }
   ],
   "source": [
    "# - çıkarma operatörü:\n",
    "print(5-4)"
   ]
  },
  {
   "cell_type": "code",
   "execution_count": 15,
   "metadata": {},
   "outputs": [
    {
     "name": "stdout",
     "output_type": "stream",
     "text": [
      "-4\n"
     ]
    }
   ],
   "source": [
    "x=6\n",
    "x=-4\n",
    "print(x) # burdada = tirden sonra - 4 dersek sonucu negatif sayıya eşitler."
   ]
  },
  {
   "cell_type": "code",
   "execution_count": 16,
   "metadata": {},
   "outputs": [
    {
     "name": "stdout",
     "output_type": "stream",
     "text": [
      "15\n"
     ]
    }
   ],
   "source": [
    "# * çarpma operatörü:\n",
    "print(3*5)"
   ]
  },
  {
   "cell_type": "code",
   "execution_count": 17,
   "metadata": {},
   "outputs": [
    {
     "name": "stdout",
     "output_type": "stream",
     "text": [
      "-7\n"
     ]
    }
   ],
   "source": [
    "print(12+5-8*3) # ilk önce çarpma veya bölme işlemleri yapılır."
   ]
  },
  {
   "cell_type": "code",
   "execution_count": 18,
   "metadata": {},
   "outputs": [
    {
     "name": "stdout",
     "output_type": "stream",
     "text": [
      "3.0\n"
     ]
    }
   ],
   "source": [
    "# / bölme operatörü\n",
    "print(12/4)"
   ]
  },
  {
   "cell_type": "code",
   "execution_count": 19,
   "metadata": {},
   "outputs": [
    {
     "name": "stdout",
     "output_type": "stream",
     "text": [
      "16.0\n"
     ]
    }
   ],
   "source": [
    "print(6+5+9-12/3) # ilk önce çarpma veya bölme işlemleri yapılır."
   ]
  },
  {
   "cell_type": "code",
   "execution_count": 20,
   "metadata": {},
   "outputs": [
    {
     "name": "stdout",
     "output_type": "stream",
     "text": [
      "3\n"
     ]
    }
   ],
   "source": [
    "# mod alma kalan verme işlemi:\n",
    "print(15%4)"
   ]
  },
  {
   "cell_type": "code",
   "execution_count": 21,
   "metadata": {},
   "outputs": [
    {
     "name": "stdout",
     "output_type": "stream",
     "text": [
      "14\n"
     ]
    }
   ],
   "source": [
    "print(6+9-5*3%2) # ilk önce çarpma sonra mod alma sonra toplama"
   ]
  },
  {
   "cell_type": "code",
   "execution_count": 22,
   "metadata": {},
   "outputs": [
    {
     "name": "stdout",
     "output_type": "stream",
     "text": [
      "8\n"
     ]
    }
   ],
   "source": [
    "# ** üs alma operatörü:\n",
    "print(2**3)"
   ]
  },
  {
   "cell_type": "code",
   "execution_count": 23,
   "metadata": {},
   "outputs": [
    {
     "name": "stdout",
     "output_type": "stream",
     "text": [
      "2\n"
     ]
    }
   ],
   "source": [
    "# // sadece bölüm sonucu verme:\n",
    "print(12//5)"
   ]
  },
  {
   "cell_type": "code",
   "execution_count": 24,
   "metadata": {},
   "outputs": [
    {
     "name": "stdout",
     "output_type": "stream",
     "text": [
      "4.0\n"
     ]
    }
   ],
   "source": [
    "# karekök alma:\n",
    "print(16**(1/2))"
   ]
  },
  {
   "cell_type": "code",
   "execution_count": 26,
   "metadata": {},
   "outputs": [
    {
     "name": "stdout",
     "output_type": "stream",
     "text": [
      "2.0\n"
     ]
    }
   ],
   "source": [
    "print(8*(1/4)) # 1/4 küpünü alır"
   ]
  },
  {
   "cell_type": "code",
   "execution_count": 27,
   "metadata": {},
   "outputs": [
    {
     "name": "stdout",
     "output_type": "stream",
     "text": [
      "2.0\n"
     ]
    }
   ],
   "source": [
    "print(16*(1/8)) # 1/8 4. kuvvettini alır."
   ]
  },
  {
   "cell_type": "markdown",
   "metadata": {},
   "source": [
    "DEĞİŞKENLER:"
   ]
  },
  {
   "cell_type": "code",
   "execution_count": 28,
   "metadata": {},
   "outputs": [
    {
     "name": "stdout",
     "output_type": "stream",
     "text": [
      "0.18\n"
     ]
    }
   ],
   "source": [
    "print(18/100)"
   ]
  },
  {
   "cell_type": "code",
   "execution_count": 30,
   "metadata": {},
   "outputs": [],
   "source": [
    "kdv=0.18\n",
    "urunA=500\n",
    "urunB=600\n",
    "urunA_fiyat=urunA*kdv"
   ]
  },
  {
   "cell_type": "code",
   "execution_count": 31,
   "metadata": {},
   "outputs": [
    {
     "name": "stdout",
     "output_type": "stream",
     "text": [
      "Seçtiğiniz Ürünün fiyatı=90.0\n"
     ]
    }
   ],
   "source": [
    "print(\"Seçtiğiniz Ürünün fiyatı={}\".format(urunA_fiyat))"
   ]
  },
  {
   "cell_type": "code",
   "execution_count": 32,
   "metadata": {},
   "outputs": [],
   "source": [
    "urunB_fiyat=urunB*kdv"
   ]
  },
  {
   "cell_type": "code",
   "execution_count": 33,
   "metadata": {},
   "outputs": [
    {
     "name": "stdout",
     "output_type": "stream",
     "text": [
      "Seçtiğiniz Ürünün fiyatı=108.0\n"
     ]
    }
   ],
   "source": [
    "print(\"Seçtiğiniz Ürünün fiyatı={}\".format(urunB_fiyat))"
   ]
  },
  {
   "cell_type": "markdown",
   "metadata": {},
   "source": [
    "DEĞİŞKEN TANILAMA KURALLARI:"
   ]
  },
  {
   "cell_type": "code",
   "execution_count": 34,
   "metadata": {},
   "outputs": [],
   "source": [
    "# 3ab => yanlış bir tanımlama asla bir rakamla değişken tanımlanmaz\n",
    "# sayı@ veya sayı? gibi tanımlama yapılamaz\n",
    "# sayi4 ilksayı= değişken tanımlanırken boşluk bırakalımaz\n",
    "# türkçe karakter kullanmaktan kaçımak lazım\n",
    "# SAYİ gibi hepsi büyük harfle tanımlanamaz\n",
    "# Sayi gibi büyük harfle başlayan değişken tanımlanmamk lazım"
   ]
  },
  {
   "cell_type": "code",
   "execution_count": 35,
   "metadata": {},
   "outputs": [],
   "source": [
    "# Örnek değişken tanımlama:"
   ]
  },
  {
   "cell_type": "code",
   "execution_count": 37,
   "metadata": {},
   "outputs": [
    {
     "name": "stdout",
     "output_type": "stream",
     "text": [
      "Mehmet Es 32\n"
     ]
    }
   ],
   "source": [
    "ogrenci_name=\"Mehmet\" # str tanımı\n",
    "ogrenci_firstname=\"Es\"\n",
    "ogrenci_age=32\n",
    "ogrenci_full_name=ogrenci_name+\" \"+ogrenci_firstname+\" \"+str(ogrenci_age)\n",
    "print(ogrenci_full_name)"
   ]
  },
  {
   "cell_type": "code",
   "execution_count": 38,
   "metadata": {},
   "outputs": [],
   "source": [
    "urun1=50"
   ]
  },
  {
   "cell_type": "code",
   "execution_count": 39,
   "metadata": {},
   "outputs": [],
   "source": [
    "urun2=60.5"
   ]
  },
  {
   "cell_type": "code",
   "execution_count": 40,
   "metadata": {},
   "outputs": [],
   "source": [
    "urun3=356.45"
   ]
  },
  {
   "cell_type": "code",
   "execution_count": 41,
   "metadata": {},
   "outputs": [
    {
     "name": "stdout",
     "output_type": "stream",
     "text": [
      "466.95\n"
     ]
    }
   ],
   "source": [
    "urun_sum=urun1+urun2+urun3\n",
    "print(urun_sum)"
   ]
  },
  {
   "cell_type": "code",
   "execution_count": 43,
   "metadata": {},
   "outputs": [
    {
     "name": "stdout",
     "output_type": "stream",
     "text": [
      "Hesaplayacağınız yarı çapı giriniz=12\n",
      "daire alanı=452.16, daire çevresi=75.36\n"
     ]
    }
   ],
   "source": [
    "yaricap=int(input(\"Hesaplayacağınız yarı çapı giriniz=\"))\n",
    "pi_sayisi=3.14\n",
    "daire_alan=pi_sayisi*(yaricap**2)\n",
    "daire_cevre=2*(pi_sayisi*yaricap)\n",
    "print(\"daire alanı={}, daire çevresi={}\".format(daire_alan,daire_cevre))"
   ]
  },
  {
   "cell_type": "code",
   "execution_count": null,
   "metadata": {},
   "outputs": [],
   "source": []
  }
 ],
 "metadata": {
  "kernelspec": {
   "display_name": "Python 3",
   "language": "python",
   "name": "python3"
  },
  "language_info": {
   "codemirror_mode": {
    "name": "ipython",
    "version": 3
   },
   "file_extension": ".py",
   "mimetype": "text/x-python",
   "name": "python",
   "nbconvert_exporter": "python",
   "pygments_lexer": "ipython3",
   "version": "3.8.5"
  }
 },
 "nbformat": 4,
 "nbformat_minor": 4
}
