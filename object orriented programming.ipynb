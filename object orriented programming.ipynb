{
 "cells": [
  {
   "cell_type": "code",
   "execution_count": 2,
   "metadata": {},
   "outputs": [],
   "source": [
    "from abc import ABC, abstractmethod"
   ]
  },
  {
   "cell_type": "code",
   "execution_count": 3,
   "metadata": {},
   "outputs": [],
   "source": [
    "class Shape(ABC):\n",
    "    def __init__(self):\n",
    "        print(\"Geometri Hesaplama programı...\")\n",
    "        print(\"Kare ve daire hesaplaması...\")\n",
    "    def area(self):\n",
    "        print(\"Kare için alan hesaplaması: kenarın karesidir\")\n",
    "        print(\"daire için alan hesaplaması : pi*r**2 dir\")\n",
    "    def perimeter(self):\n",
    "        print(\"kare için çevre hesaplaması : kenar*4\")\n",
    "        print(\"Daire için çevre hesaplaması :2*pi*yarıçapın karesi \")\n",
    "    def toString(self):\n",
    "        print(\"Şekil hesaplama fonksiyonu.\") "
   ]
  },
  {
   "cell_type": "code",
   "execution_count": 4,
   "metadata": {},
   "outputs": [],
   "source": [
    "class Shape(ABC):\n",
    "    def __init__(self):\n",
    "        print(\"Geometri Hesaplama programı...\")\n",
    "        print(\"Kare ve daire hesaplaması...\")\n",
    "    def area(self):\n",
    "        print(\"Kare için alan hesaplaması: kenarın karesidir\")\n",
    "        print(\"daire için alan hesaplaması : pi*r**2 dir\")\n",
    "    def perimeter(self):\n",
    "        print(\"kare için çevre hesaplaması : kenar*4\")\n",
    "        print(\"Daire için çevre hesaplaması :2*pi*yarıçapın karesi \")\n",
    "    def toString(self):\n",
    "        print(\"Şekil hesaplama fonksiyonu.\")     \n",
    "\n",
    "class Square(Shape):\n",
    "    def __init__(self):\n",
    "        Shape.__init__(self)\n",
    "        edge=int(input(\"Karenin kenarını giriniz= \"))\n",
    "        self.__edge=edge\n",
    "    def area(self):\n",
    "        Shape.area(self)\n",
    "        result=self.__edge**2\n",
    "        self.result=result\n",
    "    def perimeter(self):\n",
    "        Shape.perimeter(self)\n",
    "        result1=self.__edge*4\n",
    "        self.result1=result1\n",
    "    def toString(self):\n",
    "        print(f\"Karenin kenarı={self.__edge}\")\n",
    "        print(f\"Karenin alanı={self.result}, karenin çevresi={self.result1}\") "
   ]
  },
  {
   "cell_type": "code",
   "execution_count": 9,
   "metadata": {},
   "outputs": [],
   "source": [
    "class Circle(Shape):\n",
    "    def __init__(self):\n",
    "        Shape.__init__(self)\n",
    "        pi_number=3.14\n",
    "        self.pi_number=pi_number\n",
    "        raidus=int(input(\"Daire yarıçapını giriniz= \"))\n",
    "        self.__radius=raidus\n",
    "    def area(self):\n",
    "        Shape.area(self)\n",
    "        result2= self.pi_number*(self.__radius**2)\n",
    "        self.result2=result2\n",
    "    def perimeter(self):\n",
    "        Shape.perimeter(self)\n",
    "        result3 = 2*self.pi_number*(self.__radius**2)\n",
    "        self.result3=result3\n",
    "    def toString(self):\n",
    "        print(f\"Dairenin yarıçapı={self.__radius}\")\n",
    "        print(f\"Dairenin alanı={self.result2}, dairenin çevresi={self.result3}\")     "
   ]
  },
  {
   "cell_type": "code",
   "execution_count": 10,
   "metadata": {},
   "outputs": [
    {
     "name": "stdout",
     "output_type": "stream",
     "text": [
      "Geometri Hesaplama programı...\n",
      "Kare ve daire hesaplaması...\n",
      "Daire yarıçapını giriniz= 4\n"
     ]
    }
   ],
   "source": [
    "c1=Circle()"
   ]
  },
  {
   "cell_type": "code",
   "execution_count": 11,
   "metadata": {},
   "outputs": [
    {
     "name": "stdout",
     "output_type": "stream",
     "text": [
      "Kare için alan hesaplaması: kenarın karesidir\n",
      "daire için alan hesaplaması : pi*r**2 dir\n"
     ]
    }
   ],
   "source": [
    "c1.area()"
   ]
  },
  {
   "cell_type": "code",
   "execution_count": 12,
   "metadata": {},
   "outputs": [
    {
     "name": "stdout",
     "output_type": "stream",
     "text": [
      "kare için çevre hesaplaması : kenar*4\n",
      "Daire için çevre hesaplaması :2*pi*yarıçapın karesi \n"
     ]
    }
   ],
   "source": [
    "c1.perimeter()"
   ]
  },
  {
   "cell_type": "code",
   "execution_count": 13,
   "metadata": {},
   "outputs": [
    {
     "name": "stdout",
     "output_type": "stream",
     "text": [
      "Dairenin yarıçapı=4\n",
      "Dairenin alanı=50.24, dairenin çevresi=100.48\n"
     ]
    }
   ],
   "source": [
    "c1.toString()"
   ]
  },
  {
   "cell_type": "code",
   "execution_count": 14,
   "metadata": {},
   "outputs": [],
   "source": [
    "class Person():\n",
    "    def __init__(self):\n",
    "        print(\"Person is added...\")\n",
    "    def person_added(self):\n",
    "        name=input(\"What is your name? \")\n",
    "        self.name=name\n",
    "        surname=input(\"What is surname? \")\n",
    "        self.surname=surname\n",
    "    def person_list(self):\n",
    "        print(f\"Person name={self.name} and person surname={self.surname}\")"
   ]
  },
  {
   "cell_type": "code",
   "execution_count": 15,
   "metadata": {},
   "outputs": [
    {
     "name": "stdout",
     "output_type": "stream",
     "text": [
      "Person is added...\n"
     ]
    }
   ],
   "source": [
    "p1=Person()"
   ]
  },
  {
   "cell_type": "code",
   "execution_count": null,
   "metadata": {},
   "outputs": [],
   "source": []
  }
 ],
 "metadata": {
  "kernelspec": {
   "display_name": "Python 3",
   "language": "python",
   "name": "python3"
  },
  "language_info": {
   "codemirror_mode": {
    "name": "ipython",
    "version": 3
   },
   "file_extension": ".py",
   "mimetype": "text/x-python",
   "name": "python",
   "nbconvert_exporter": "python",
   "pygments_lexer": "ipython3",
   "version": "3.8.5"
  }
 },
 "nbformat": 4,
 "nbformat_minor": 4
}
