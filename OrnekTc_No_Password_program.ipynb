{
 "cells": [
  {
   "cell_type": "code",
   "execution_count": null,
   "metadata": {},
   "outputs": [],
   "source": []
  },
  {
   "cell_type": "code",
   "execution_count": 8,
   "metadata": {},
   "outputs": [],
   "source": [
    "def health_system():\n",
    "    for i in range(0,1):\n",
    "        liste_tc=[]\n",
    "        language_selection=input(\"Which language will you continue with?= Eng or Tur \")\n",
    "        # Maalesef ingilizce bilmediğim için türkçe yazdım..\n",
    "        if language_selection==\"Tur\":\n",
    "            print(\"Kovid risk sorgulama programına hoşgeldiniz...\")\n",
    "            print(\"Programa kayıt olabilmeniz için lütfen Tc numaranızı giriniz...\")\n",
    "            tc_no=input(\"Lütfen Tc Numaranızı giriniz = \")\n",
    "            if len(tc_no)!=11:\n",
    "                print(\"Tc numaranız 11 haneli olmalıdır.\")\n",
    "                break\n",
    "            elif len(tc_no)==11:\n",
    "                if not tc_no.isdigit() or int(tc_no[0])==0:\n",
    "                    print(\"Girilen tc no 11 haneli ama yanlış bir tc numarası girdiniz...\")\n",
    "                    break\n",
    "                elif tc_no.isdigit() and int(tc_no[0])!=0:\n",
    "                    for i in tc_no:\n",
    "                        liste_tc.append(int(i))\n",
    "                    a= 7 * sum(liste_tc[0:10:2])\n",
    "                    b= sum(liste_tc[1:9:2])\n",
    "                    c=(a-b)%10\n",
    "                    x=sum(liste_tc[:10])\n",
    "                    y=x%10\n",
    "                    if c!=liste_tc[9] or y!=liste_tc[10]:\n",
    "                        print(\"Tc numara kriterlerine uymuyor..\")\n",
    "                        break\n",
    "                    elif c==liste_tc[9] and y==liste_tc[10]:\n",
    "                        print(\"Doğru giriş yaptınız. Tc numaranız sisteme kayıt oldu...\")\n",
    "                        print(\"Gireceğiniz şifre 8 karakterli olmalı. ilk iki değeri harf, diğer 6 değeri rakam olacak\")\n",
    "                        print(\"Ayrıca İlk harf büyük 2. harf küçük olacak\")\n",
    "                        password= input(\"Lütfen şifrenizi giriniz= \")\n",
    "                        a=password[0]\n",
    "                        b=password[1]\n",
    "                        c=password[2:8]\n",
    "                        if a!=a.upper():\n",
    "                            print(\"ilk harf büyük olmalı. Belirtilen kritere göre giriniz. Sistemden atılacaksınız\")\n",
    "                            break\n",
    "                        elif a==a.upper():\n",
    "                            if b!=b.lower():\n",
    "                                print(\"İkinci harf küçük olmalı. sistemden atılacaksınız..\")\n",
    "                                break\n",
    "                            elif b==b.lower():\n",
    "                                if not c.isdigit():\n",
    "                                    print(\"Son altı karakter rakam olmalı sistemden atılacaksınız\")\n",
    "                                    break\n",
    "                                elif c.isdigit():\n",
    "                                    print(\"Tebrikler şifreyi doğru girdiniz...\")\n",
    "                                    print(\"Sisteme yönlendiriliyorsunuz...\")\n",
    "                                    print(\"Covid Risk analiz sistemine hoşgeldiniz.\")\n",
    "                                    sifre_tc_kayit=input(\"Şifreniz ve tc numaranızı görmek ister misiniz? E/H \")\n",
    "                                    if sifre_tc_kayit==\"E\":\n",
    "                                        sifre=a+b+c\n",
    "                                        print(f\"Şifreniz={sifre}\")\n",
    "                                        for i in liste_tc:\n",
    "                                            print(i,end=\"\")\n",
    "                                    elif sifre_tc_kayit==\"H\":\n",
    "                                        print(\"İsteğiniz doğrultusunda tc numaranız ve şifreniz ekranda gösterilmedi..\")\n",
    "                                    isim=input(\"Adınızı ve soyadınızı giriniz= \")\n",
    "                                    yas=int(input(f\"Sayın {isim} bey lütfen yaşınızı giriniz= \"))\n",
    "                                    if yas<0 :\n",
    "                                        print(\"Lütfen negatif bir sayı girmeyiniz!!\")\n",
    "                                        break\n",
    "                                    elif yas>0 and yas<18:\n",
    "                                        print(\"Bu program 18 yaşından büyükler için hizmet vermetedir..\")\n",
    "                                        break\n",
    "                                    sigara_durum=input(f\"Sayın {isim} bey sigara kullanıyor musunuz? E/H\")\n",
    "                                    if yas>18 and yas<40 and sigara_durum==\"H\":\n",
    "                                        print(\"Risk seviyeniz düşük-düşük.\")\n",
    "                                    elif yas>18 and yas<40 and sigara_durum==\"E\":\n",
    "                                        print(\"Yaş grubu olarak risk grubunda bulunmuyorsunuz.\")\n",
    "                                        print(\"Sigara içtiğiniz için vücud bağışıklığınız düşük olacaktır.\")\n",
    "                                        print(\"Risk seviyeniz sigara yüzünden orta-yüksek. sigarayı bırakın!!\")\n",
    "                                    elif yas>=40 and yas<60 and sigara_durum==\"H\":\n",
    "                                        print(\"Riskli bir yaş aralığınız var \")\n",
    "                                        print(\"Risk seviyeniz orta-yüksek.Sigara içmemeye devam edin... \")\n",
    "                                    elif yas>=40 and yas<60 and sigara_durum==\"E\":\n",
    "                                        print(\"Riskli bir yaş aralığınız var \")\n",
    "                                        print(\"Risk seviyeniz yüksek-yüksek.Sigarayı acilen bırakın... \")\n",
    "                                    elif yas>=60 and yas<90 and sigara_durum==\"H\":\n",
    "                                        print(\"Çok Riskli bir yaş aralığınız var. aşı sırasında önceliklisiniz.. \")\n",
    "                                        print(\"Risk seviyeniz yüksek-yüksek.Kesinlikle sigara içmemeye devam edin... \")\n",
    "                                    elif yas>=60 and yas<99 and sigara_durum==\"E\":\n",
    "                                        print(\"Çok Riskli bir yaş aralığınız var. aşı sırasında önceliklisiniz.. \")\n",
    "                                        print(\"Risk seviyeniz maximun-yüksek. Lütfen acilen sigarayı bırakın\")\n",
    "                                        print(\"Sigara kullandığınız için hayati tehlikeniz var..\")\n",
    "                                    adress=input(\"Sağlık ekiplerinin acil müdahalesi için Lütfen ev adresinizi giriniz = \")\n",
    "                                    gsm=input(\"Lütfen gsm bilginizi başında 0 olmadan giriniz= \" )\n",
    "                                    if len(gsm)!=10:\n",
    "                                        print(\"Gsm numaranız hatalı...\")\n",
    "                                    elif len(gsm)==10:\n",
    "                                        if not gsm.isdigit():\n",
    "                                            print(\"Gsm numaranızı rakam ile giriniz...\")\n",
    "                                        elif gsm.isdigit():\n",
    "                                            print(\"Ev adresiniz ve gsm numaranız kaydedildi..\")\n",
    "                                            print(f\"Ev adresiniz={adress}\\n gsm numaranız={gsm}\")\n",
    "                                            print(\"Acil Durumlar için Lütfen size gönderceğimiz no ile bizi hemen arayın..\")\n",
    "                                            gonder_istek=input(\"Size acil durumlar için numaramızı göndermemizi ister misiniz? E/H\")\n",
    "                                            if gonder_istek==\"E\":\n",
    "                                                destek_no=\"123456789\"\n",
    "                                                print(\"Acil durumlar için bize direk ulaşacağınız numara={destek_no} \")\n",
    "                                            elif gonder_istek==\"H\":\n",
    "                                                print(\"Acil durumlar için 112 Acil Koddan bize ulaşabilirsiniz..\")\n"
   ]
  },
  {
   "cell_type": "code",
   "execution_count": 9,
   "metadata": {},
   "outputs": [
    {
     "name": "stdout",
     "output_type": "stream",
     "text": [
      "Which language will you continue with?= Eng or TurTur\n",
      "Kovid risk sorgulama programına hoşgeldiniz...\n",
      "Programa kayıt olabilmeniz için lütfen Tc numaranızı giriniz...\n",
      "Lütfen Tc Numaranızı giriniz = 14402237070\n",
      "Doğru giriş yaptınız. Tc numaranız sisteme kayıt oldu...\n",
      "Gireceğiniz şifre 8 karakterli olmalı. ilk iki değeri harf, diğer 6 değeri rakam olacak\n",
      "Ayrıca İlk harf büyük 2. harf küçük olacak\n",
      "Lütfen şifrenizi giriniz= Es123456\n",
      "Tebrikler şifreyi doğru girdiniz...\n",
      "Sisteme yönlendiriliyorsunuz...\n",
      "Covid Risk analiz sistemine hoşgeldiniz.\n",
      "Şifreniz ve tc numaranızı görmek ister misiniz? E/H E\n",
      "Şifreniz=Es123456\n",
      "14402237070Adınızı ve soyadınızı giriniz= Mehmet Es\n",
      "Sayın Mehmet Es bey lütfen yaşınızı giriniz= 89\n",
      "Sayın Mehmet Es bey sigara kullanıyor musunuz? E/HE\n",
      "Çok Riskli bir yaş aralığınız var. aşı sırasında önceliklisiniz.. \n",
      "Risk seviyeniz maximun-yüksek. Lütfen acilen sigarayı bırakın\n",
      "Sigara kullandığınız için hayati tehlikeniz var..\n",
      "Sağlık ekiplerinin acil müdahalesi için Lütfen ev adresinizi giriniz = Harbiye Mahallesi Nakara\n",
      "Lütfen gsm giriniz= 5558976544\n",
      "adres bilgileriniz ve gsm bilgileriniz kaydedildi.\n",
      "Ev adresiniz=Harbiye Mahallesi Nakara\n",
      " gsm numaranız=5558976544\n"
     ]
    }
   ],
   "source": [
    "health_system()"
   ]
  },
  {
   "cell_type": "code",
   "execution_count": 56,
   "metadata": {},
   "outputs": [
    {
     "name": "stdout",
     "output_type": "stream",
     "text": [
      "doğru\n"
     ]
    }
   ],
   "source": [
    "liste_tc=[1,4,4,0,2,2,3,7,0,7,0]\n",
    "a= 7 * sum(liste_tc[0:10:2])\n",
    "b= sum(liste_tc[1:9:2])\n",
    "c=(a-b)%10\n",
    "x=sum(liste_tc[:10])\n",
    "y=x%10\n",
    "if c==liste_tc[9] and y==liste_tc[10]:\n",
    "    print(\"doğru\")\n",
    "elif c!=liste_tc[9] or y!=liste_tc[10]:\n",
    "    print(\"Yanlış\")"
   ]
  },
  {
   "cell_type": "code",
   "execution_count": null,
   "metadata": {},
   "outputs": [],
   "source": [
    "sentence=input(\"Lütfen şifre giriniz = \")\n",
    "for i in range(0,1):\n",
    "    if len(sentence)!=8:\n",
    "        print(\"Şifreniz 8 karakter değil..\")\n",
    "        break\n",
    "    elif len(sentence)==8:\n",
    "        a=sentence[0]\n",
    "        b=sentence[1]\n",
    "        c=sentence[2:8]\n",
    "        if a!=a.upper():\n",
    "            print(\"İlk harf büyük olmalıdır. Sistemden atıldınız...\")\n",
    "            break\n",
    "        elif a==a.upper():\n",
    "            if b!=b.lower():\n",
    "                print(\"ikinci harfiniz küçük olmalıdır...\")\n",
    "                break\n",
    "            elif b==b.lower():\n",
    "                if not c.isdigit():\n",
    "                    print(\"son altı harf rakam olmalı..\")\n",
    "                    break\n",
    "                elif c.isdigit():\n",
    "                    print(\"Tebrikler doğru giriş yaptınız...\")\n"
   ]
  },
  {
   "cell_type": "code",
   "execution_count": null,
   "metadata": {},
   "outputs": [],
   "source": []
  },
  {
   "cell_type": "code",
   "execution_count": null,
   "metadata": {},
   "outputs": [],
   "source": []
  },
  {
   "cell_type": "code",
   "execution_count": null,
   "metadata": {},
   "outputs": [],
   "source": []
  },
  {
   "cell_type": "code",
   "execution_count": null,
   "metadata": {},
   "outputs": [],
   "source": []
  },
  {
   "cell_type": "code",
   "execution_count": null,
   "metadata": {},
   "outputs": [],
   "source": []
  },
  {
   "cell_type": "code",
   "execution_count": null,
   "metadata": {},
   "outputs": [],
   "source": []
  },
  {
   "cell_type": "code",
   "execution_count": null,
   "metadata": {},
   "outputs": [],
   "source": []
  },
  {
   "cell_type": "code",
   "execution_count": null,
   "metadata": {},
   "outputs": [],
   "source": []
  },
  {
   "cell_type": "code",
   "execution_count": null,
   "metadata": {},
   "outputs": [],
   "source": []
  },
  {
   "cell_type": "code",
   "execution_count": null,
   "metadata": {},
   "outputs": [],
   "source": []
  }
 ],
 "metadata": {
  "kernelspec": {
   "display_name": "Python 3",
   "language": "python",
   "name": "python3"
  },
  "language_info": {
   "codemirror_mode": {
    "name": "ipython",
    "version": 3
   },
   "file_extension": ".py",
   "mimetype": "text/x-python",
   "name": "python",
   "nbconvert_exporter": "python",
   "pygments_lexer": "ipython3",
   "version": "3.8.5"
  }
 },
 "nbformat": 4,
 "nbformat_minor": 4
}
