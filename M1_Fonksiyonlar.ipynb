{
 "cells": [
  {
   "cell_type": "code",
   "execution_count": 2,
   "metadata": {},
   "outputs": [],
   "source": [
    "# fonksiyonlar:"
   ]
  },
  {
   "cell_type": "code",
   "execution_count": 4,
   "metadata": {},
   "outputs": [],
   "source": [
    "def selamla():\n",
    "    print(\"Selamun Aleyküm\")"
   ]
  },
  {
   "cell_type": "code",
   "execution_count": 5,
   "metadata": {},
   "outputs": [
    {
     "name": "stdout",
     "output_type": "stream",
     "text": [
      "Selamun Aleyküm\n"
     ]
    }
   ],
   "source": [
    "selamla()"
   ]
  },
  {
   "cell_type": "code",
   "execution_count": 14,
   "metadata": {},
   "outputs": [],
   "source": [
    "def topla():\n",
    "    print(10+20)"
   ]
  },
  {
   "cell_type": "code",
   "execution_count": 15,
   "metadata": {},
   "outputs": [
    {
     "name": "stdout",
     "output_type": "stream",
     "text": [
      "30\n"
     ]
    }
   ],
   "source": [
    "topla()"
   ]
  },
  {
   "cell_type": "code",
   "execution_count": 17,
   "metadata": {},
   "outputs": [
    {
     "name": "stdout",
     "output_type": "stream",
     "text": [
      "50\n"
     ]
    }
   ],
   "source": [
    "def topla1():\n",
    "    return 20+30\n",
    "print(topla1())"
   ]
  },
  {
   "cell_type": "code",
   "execution_count": 18,
   "metadata": {},
   "outputs": [],
   "source": [
    "def selam(a):\n",
    "    return a+\" \"+\" Kardeşim Benim\""
   ]
  },
  {
   "cell_type": "code",
   "execution_count": 19,
   "metadata": {},
   "outputs": [
    {
     "data": {
      "text/plain": [
       "'Hello  Kardeşim Benim'"
      ]
     },
     "execution_count": 19,
     "metadata": {},
     "output_type": "execute_result"
    }
   ],
   "source": [
    "selam(\"Hello\")"
   ]
  },
  {
   "cell_type": "code",
   "execution_count": 21,
   "metadata": {},
   "outputs": [],
   "source": [
    "def toplam(a,b):\n",
    "    toplama=a+b\n",
    "    return toplama\n"
   ]
  },
  {
   "cell_type": "code",
   "execution_count": 22,
   "metadata": {},
   "outputs": [
    {
     "data": {
      "text/plain": [
       "32"
      ]
     },
     "execution_count": 22,
     "metadata": {},
     "output_type": "execute_result"
    }
   ],
   "source": [
    "toplam(15,17)"
   ]
  },
  {
   "cell_type": "code",
   "execution_count": 25,
   "metadata": {},
   "outputs": [],
   "source": [
    "def yas_hesapla(yas,isim):\n",
    "    yasım=2021-yas\n",
    "    return \"Şu an ki yaşın=\"+\"\"+str(yasım)+\" \"+ \"ve benim adım=\"+\" \"+isim"
   ]
  },
  {
   "cell_type": "code",
   "execution_count": 26,
   "metadata": {},
   "outputs": [
    {
     "data": {
      "text/plain": [
       "'Şu an ki yaşın=33 ve benim adım= Mehmet'"
      ]
     },
     "execution_count": 26,
     "metadata": {},
     "output_type": "execute_result"
    }
   ],
   "source": [
    "yas_hesapla(1988,\"Mehmet\")"
   ]
  },
  {
   "cell_type": "code",
   "execution_count": 27,
   "metadata": {},
   "outputs": [],
   "source": [
    "def goster(kelime):\n",
    "    kere=int(input(\"kelimeyi kaç kere göstermek istersin=\"))\n",
    "    for i in range(1,kere+1):\n",
    "        print(kelime)"
   ]
  },
  {
   "cell_type": "code",
   "execution_count": 28,
   "metadata": {},
   "outputs": [
    {
     "name": "stdout",
     "output_type": "stream",
     "text": [
      "kelimeyi kaç kere göstermek istersin=4\n",
      "Selam Kardeşim\n",
      "Selam Kardeşim\n",
      "Selam Kardeşim\n",
      "Selam Kardeşim\n"
     ]
    }
   ],
   "source": [
    "goster(\"Selam Kardeşim\")"
   ]
  },
  {
   "cell_type": "code",
   "execution_count": 29,
   "metadata": {},
   "outputs": [],
   "source": [
    "import random"
   ]
  },
  {
   "cell_type": "code",
   "execution_count": 30,
   "metadata": {},
   "outputs": [],
   "source": [
    "def tahminet(sayi):\n",
    "    tahmin = random.randint(1,25)\n",
    "    if sayi==tahmin:\n",
    "        print(\"tebrikler bildiniz\")\n",
    "    else:\n",
    "        print(\"maalesef bilemediniz\")"
   ]
  },
  {
   "cell_type": "code",
   "execution_count": 31,
   "metadata": {},
   "outputs": [
    {
     "name": "stdout",
     "output_type": "stream",
     "text": [
      "tebrikler bildiniz\n"
     ]
    }
   ],
   "source": [
    "tahminet(15)"
   ]
  },
  {
   "cell_type": "code",
   "execution_count": 32,
   "metadata": {},
   "outputs": [
    {
     "name": "stdout",
     "output_type": "stream",
     "text": [
      "maalesef bilemediniz\n"
     ]
    }
   ],
   "source": [
    "tahminet(20)"
   ]
  },
  {
   "cell_type": "code",
   "execution_count": 48,
   "metadata": {},
   "outputs": [],
   "source": [
    "def tam_bolen(sayi):\n",
    "    liste=list()\n",
    "    for i in range(1,sayi+1):\n",
    "        if sayi%i==0:\n",
    "            liste.append(i)\n",
    "    print(liste)    \n",
    "                    "
   ]
  },
  {
   "cell_type": "code",
   "execution_count": 49,
   "metadata": {},
   "outputs": [
    {
     "name": "stdout",
     "output_type": "stream",
     "text": [
      "[1, 13]\n"
     ]
    }
   ],
   "source": [
    "tam_bolen(13)"
   ]
  },
  {
   "cell_type": "code",
   "execution_count": 50,
   "metadata": {},
   "outputs": [],
   "source": [
    "def selamla(a,b=\"Merhaba Ali\"):\n",
    "    return a+\" \"+\" \"+b"
   ]
  },
  {
   "cell_type": "code",
   "execution_count": 51,
   "metadata": {},
   "outputs": [
    {
     "data": {
      "text/plain": [
       "'Hello  Merhaba Ali'"
      ]
     },
     "execution_count": 51,
     "metadata": {},
     "output_type": "execute_result"
    }
   ],
   "source": [
    "selamla(\"Hello\")"
   ]
  },
  {
   "cell_type": "code",
   "execution_count": 52,
   "metadata": {},
   "outputs": [],
   "source": [
    "def us_alma(x,y=3):\n",
    "    return x**y"
   ]
  },
  {
   "cell_type": "code",
   "execution_count": 53,
   "metadata": {},
   "outputs": [
    {
     "data": {
      "text/plain": [
       "125"
      ]
     },
     "execution_count": 53,
     "metadata": {},
     "output_type": "execute_result"
    }
   ],
   "source": [
    "us_alma(5)"
   ]
  },
  {
   "cell_type": "code",
   "execution_count": 60,
   "metadata": {},
   "outputs": [
    {
     "name": "stdout",
     "output_type": "stream",
     "text": [
      "17\n"
     ]
    }
   ],
   "source": [
    "def toplama(a,b):\n",
    "    return a+b\n",
    "\n",
    "def islem(a,b,fn1=toplama ):\n",
    "    return fn1(a,b)\n",
    "sonuc=islem(12,5)\n",
    "print(sonuc)\n",
    "    "
   ]
  },
  {
   "cell_type": "code",
   "execution_count": 61,
   "metadata": {},
   "outputs": [],
   "source": [
    "def buyuk(x,y):\n",
    "    if x>y:\n",
    "        print(\"en büyük sayı={}\".format(x))\n",
    "    elif x==y:\n",
    "        print(\"yanlış girdiniz\")\n",
    "    else:\n",
    "        print(\"en büyük sayı={}\".format(y))"
   ]
  },
  {
   "cell_type": "code",
   "execution_count": 62,
   "metadata": {},
   "outputs": [
    {
     "name": "stdout",
     "output_type": "stream",
     "text": [
      "en büyük sayı=45\n"
     ]
    }
   ],
   "source": [
    "buyuk(2,45)"
   ]
  },
  {
   "cell_type": "code",
   "execution_count": 64,
   "metadata": {},
   "outputs": [],
   "source": [
    "liste=list()\n",
    "def listele(liste):\n",
    "    for i in liste:\n",
    "        print(i)"
   ]
  },
  {
   "cell_type": "code",
   "execution_count": 66,
   "metadata": {},
   "outputs": [
    {
     "name": "stdout",
     "output_type": "stream",
     "text": [
      "ALi\n",
      "Veli\n",
      "mahmut\n",
      "sadık\n"
     ]
    }
   ],
   "source": [
    "listele(liste=[\"ALi\",\"Veli\",\"mahmut\",\"sadık\"] )"
   ]
  },
  {
   "cell_type": "code",
   "execution_count": 1,
   "metadata": {},
   "outputs": [],
   "source": [
    "sayilar=list()\n",
    "def cift_sayi(sayilar):\n",
    "    for i in sayilar:\n",
    "        if i%2==0:\n",
    "            print(i)"
   ]
  },
  {
   "cell_type": "code",
   "execution_count": 2,
   "metadata": {},
   "outputs": [
    {
     "name": "stdout",
     "output_type": "stream",
     "text": [
      "12\n",
      "4\n",
      "8\n",
      "10\n"
     ]
    }
   ],
   "source": [
    "cift_sayi(sayilar=[12,15,4,5,8,9,10])"
   ]
  },
  {
   "cell_type": "code",
   "execution_count": 21,
   "metadata": {},
   "outputs": [],
   "source": [
    "# args fonksiyonu * fonksiyonu:"
   ]
  },
  {
   "cell_type": "code",
   "execution_count": 22,
   "metadata": {},
   "outputs": [],
   "source": [
    "def toplam(*sayilar):\n",
    "    toplama=0\n",
    "    for i in sayilar:\n",
    "        toplama=i+toplama\n",
    "    print(toplama)    "
   ]
  },
  {
   "cell_type": "code",
   "execution_count": 23,
   "metadata": {},
   "outputs": [
    {
     "name": "stdout",
     "output_type": "stream",
     "text": [
      "52\n"
     ]
    }
   ],
   "source": [
    "toplam(12,14,5,6,7,8)"
   ]
  },
  {
   "cell_type": "code",
   "execution_count": 28,
   "metadata": {},
   "outputs": [],
   "source": [
    "def sırala(*kelimeler):\n",
    "    for i in kelimeler:\n",
    "        print(i)"
   ]
  },
  {
   "cell_type": "code",
   "execution_count": 29,
   "metadata": {},
   "outputs": [
    {
     "name": "stdout",
     "output_type": "stream",
     "text": [
      "Ali\n",
      "Veli\n",
      "Sait\n"
     ]
    }
   ],
   "source": [
    "sırala(\"Ali\",\"Veli\",\"Sait\")"
   ]
  },
  {
   "cell_type": "code",
   "execution_count": 36,
   "metadata": {},
   "outputs": [],
   "source": [
    "import random"
   ]
  },
  {
   "cell_type": "code",
   "execution_count": 38,
   "metadata": {},
   "outputs": [],
   "source": [
    "def tahmin_et(*sayilar):\n",
    "    tahmin=random.randint(1,100)\n",
    "    for i in sayilar:\n",
    "        \n",
    "        if i==tahmin:\n",
    "            print(\"tebrikler bildiniz.\")\n",
    "            print(\"Girilen sayi={}, tahmin edilen sayi={}\".format(str(i),str(tahmin)))\n",
    "        else:\n",
    "            print(\"Maalesef bilemediniz\")\n",
    "            print(\"Girilen sayi={}, tahmin edilen sayi={}\".format(str(i),str(tahmin)))\n",
    "            "
   ]
  },
  {
   "cell_type": "code",
   "execution_count": 39,
   "metadata": {},
   "outputs": [
    {
     "name": "stdout",
     "output_type": "stream",
     "text": [
      "Maalesef bilemediniz\n",
      "Girilen sayi=12, tahmin edilen sayi=35\n",
      "Maalesef bilemediniz\n",
      "Girilen sayi=15, tahmin edilen sayi=35\n",
      "Maalesef bilemediniz\n",
      "Girilen sayi=17, tahmin edilen sayi=35\n",
      "Maalesef bilemediniz\n",
      "Girilen sayi=89, tahmin edilen sayi=35\n"
     ]
    }
   ],
   "source": [
    "tahmin_et(12,15,17,89)"
   ]
  },
  {
   "cell_type": "code",
   "execution_count": 40,
   "metadata": {},
   "outputs": [],
   "source": [
    "#kwargs yapısı nedir: sözlük yapar."
   ]
  },
  {
   "cell_type": "code",
   "execution_count": 48,
   "metadata": {},
   "outputs": [],
   "source": [
    "def display(**kwargs):\n",
    "    print(kwargs)"
   ]
  },
  {
   "cell_type": "code",
   "execution_count": 49,
   "metadata": {},
   "outputs": [
    {
     "data": {
      "text/plain": [
       "function"
      ]
     },
     "execution_count": 49,
     "metadata": {},
     "output_type": "execute_result"
    }
   ],
   "source": [
    "type(display)"
   ]
  },
  {
   "cell_type": "code",
   "execution_count": 50,
   "metadata": {},
   "outputs": [
    {
     "name": "stdout",
     "output_type": "stream",
     "text": [
      "{'one': '1', 'two': '2', 'three': '3'}\n"
     ]
    }
   ],
   "source": [
    "display(one=\"1\",two=\"2\",three=\"3\")"
   ]
  },
  {
   "cell_type": "code",
   "execution_count": 57,
   "metadata": {},
   "outputs": [],
   "source": [
    "def person(**kwargs):\n",
    "    for keys,value in kwargs.items():\n",
    "        print(f\"{keys}:{value}\")\n",
    "    print(\"/n\")"
   ]
  },
  {
   "cell_type": "code",
   "execution_count": 58,
   "metadata": {},
   "outputs": [
    {
     "name": "stdout",
     "output_type": "stream",
     "text": [
      "name:Mehmet\n",
      "surname:Es\n",
      "age:23\n",
      "country:Turkey\n",
      "city:Ankara\n",
      "/n\n"
     ]
    }
   ],
   "source": [
    "person(name=\"Mehmet\",surname=\"Es\",age=23 ,country=\"Turkey\",city=\"Ankara\")"
   ]
  },
  {
   "cell_type": "code",
   "execution_count": 62,
   "metadata": {},
   "outputs": [],
   "source": [
    "# kendisine gönderilen cümlede ki harfleri kaç kez tekrarlandığını bulunuz.\n",
    "\n",
    "def karakter_bul(cumle):\n",
    "    cumle=list()\n",
    "    return{karakter : cumle.count(karakter) for karakter in cumle }\n"
   ]
  },
  {
   "cell_type": "code",
   "execution_count": 64,
   "metadata": {},
   "outputs": [
    {
     "name": "stdout",
     "output_type": "stream",
     "text": [
      "{}\n"
     ]
    }
   ],
   "source": [
    "sonuc=karakter_bul(\"Merhaba Karedeşim\")\n",
    "print(sonuc)"
   ]
  },
  {
   "cell_type": "code",
   "execution_count": 71,
   "metadata": {},
   "outputs": [],
   "source": [
    "def tc_no(value):\n",
    "    value=str(value)\n",
    "    len(value)==11\n",
    "    if len(value)!=11:\n",
    "        print(\"Yanlış girdiniz uzunluk 11 haneli olmalı\")\n",
    "    if not value.isdigit():\n",
    "        print(\"rakam girmeniz gerekir\")\n",
    "    if value[0]==0:\n",
    "        print(\"ilk rakamı asla sıfır giremessiniz\")\n",
    "        \n",
    "    print(value)"
   ]
  },
  {
   "cell_type": "code",
   "execution_count": 72,
   "metadata": {},
   "outputs": [
    {
     "name": "stdout",
     "output_type": "stream",
     "text": [
      "14402237070\n"
     ]
    }
   ],
   "source": [
    "tc_no(\"14402237070\")"
   ]
  },
  {
   "cell_type": "code",
   "execution_count": 73,
   "metadata": {},
   "outputs": [
    {
     "name": "stdout",
     "output_type": "stream",
     "text": [
      "Yanlış girdiniz uzunluk 11 haneli olmalı\n",
      "rakam girmeniz gerekir\n",
      "Mehmetes\n"
     ]
    }
   ],
   "source": [
    "tc_no(\"Mehmetes\")"
   ]
  },
  {
   "cell_type": "code",
   "execution_count": 79,
   "metadata": {},
   "outputs": [],
   "source": [
    "def liste_toplamları(liste1,liste2):\n",
    "    liste3=list()\n",
    "    toplam=0\n",
    "    for x,y in zip(liste1,liste2):\n",
    "        toplam=x+y\n",
    "        liste3.append(toplam)\n",
    "    print(liste3)    "
   ]
  },
  {
   "cell_type": "code",
   "execution_count": 80,
   "metadata": {},
   "outputs": [
    {
     "name": "stdout",
     "output_type": "stream",
     "text": [
      "[9, 9, 8, 8, 8]\n"
     ]
    }
   ],
   "source": [
    "liste_toplamları([1,2,3,4,5],[8,7,5,4,3])"
   ]
  },
  {
   "cell_type": "code",
   "execution_count": null,
   "metadata": {},
   "outputs": [],
   "source": []
  }
 ],
 "metadata": {
  "kernelspec": {
   "display_name": "Python 3",
   "language": "python",
   "name": "python3"
  },
  "language_info": {
   "codemirror_mode": {
    "name": "ipython",
    "version": 3
   },
   "file_extension": ".py",
   "mimetype": "text/x-python",
   "name": "python",
   "nbconvert_exporter": "python",
   "pygments_lexer": "ipython3",
   "version": "3.8.5"
  }
 },
 "nbformat": 4,
 "nbformat_minor": 4
}
