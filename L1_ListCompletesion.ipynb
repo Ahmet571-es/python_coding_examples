{
 "cells": [
  {
   "cell_type": "code",
   "execution_count": 4,
   "metadata": {},
   "outputs": [
    {
     "name": "stdout",
     "output_type": "stream",
     "text": [
      "[1, 2, 3, 4, 5, 6, 7, 8, 9]\n"
     ]
    }
   ],
   "source": [
    "sayilar=[i for i in range(1,10)]\n",
    "print(sayilar)"
   ]
  },
  {
   "cell_type": "code",
   "execution_count": 12,
   "metadata": {},
   "outputs": [],
   "source": [
    "sayilar=[i**i for i in range(1,10)]"
   ]
  },
  {
   "cell_type": "code",
   "execution_count": 13,
   "metadata": {},
   "outputs": [
    {
     "name": "stdout",
     "output_type": "stream",
     "text": [
      "[1, 4, 27, 256, 3125, 46656, 823543, 16777216, 387420489]\n"
     ]
    }
   ],
   "source": [
    "print(sayilar)"
   ]
  },
  {
   "cell_type": "code",
   "execution_count": 15,
   "metadata": {},
   "outputs": [
    {
     "name": "stdout",
     "output_type": "stream",
     "text": [
      "[2, 4, 6, 8, 10, 12, 14, 16, 18]\n"
     ]
    }
   ],
   "source": [
    "sayilar=[i+i for i in range(1,10)]\n",
    "print(sayilar)"
   ]
  },
  {
   "cell_type": "code",
   "execution_count": 16,
   "metadata": {},
   "outputs": [
    {
     "name": "stdout",
     "output_type": "stream",
     "text": [
      "[20, 8, 14, 18, 140]\n"
     ]
    }
   ],
   "source": [
    "liste=[10,4,7,9,70]\n",
    "liste1=list()\n",
    "for i in liste:\n",
    "    i=i*2\n",
    "    liste1.append(i)\n",
    "print(liste1) "
   ]
  },
  {
   "cell_type": "code",
   "execution_count": 17,
   "metadata": {},
   "outputs": [
    {
     "name": "stdout",
     "output_type": "stream",
     "text": [
      "[20, 8, 14, 18, 140]\n"
     ]
    }
   ],
   "source": [
    "# 2. inci yol:\n",
    "\n",
    "liste=[10,4,7,9,70]\n",
    "liste2=[i*2 for i in liste]\n",
    "print(liste2)"
   ]
  },
  {
   "cell_type": "code",
   "execution_count": 18,
   "metadata": {},
   "outputs": [
    {
     "name": "stdout",
     "output_type": "stream",
     "text": [
      "['A', 'H', 'M', 'E', 'T', ' ', 'E', 'S']\n"
     ]
    }
   ],
   "source": [
    "c=\"ahmet es\"\n",
    "a=[i.upper() for i in c]\n",
    "print(a)"
   ]
  },
  {
   "cell_type": "code",
   "execution_count": 19,
   "metadata": {},
   "outputs": [
    {
     "name": "stdout",
     "output_type": "stream",
     "text": [
      "bir cümle giriniz=Merhabalar\n",
      "['r', 'l', 'b', 'h', 'e', 'M', 'r', 'a', 'a', 'a']\n"
     ]
    }
   ],
   "source": [
    "# bir cümle yazın tersini çıkartın:\n",
    "cumle=input(\"bir cümle giriniz=\")\n",
    "tersi=list()\n",
    "for i in cumle:\n",
    "    tersi.append(i)\n",
    "    tersi.reverse()\n",
    "print(tersi)    "
   ]
  },
  {
   "cell_type": "code",
   "execution_count": null,
   "metadata": {},
   "outputs": [],
   "source": [
    "# Koşullu İfadeler:"
   ]
  },
  {
   "cell_type": "code",
   "execution_count": null,
   "metadata": {},
   "outputs": [],
   "source": [
    "sayilar=[i for i in range(1,20) if i%2==0]\n",
    "print(sayilar)"
   ]
  },
  {
   "cell_type": "code",
   "execution_count": null,
   "metadata": {},
   "outputs": [],
   "source": [
    "sayilar1=[i for i in range(1,20) if i%2!=0]\n",
    "print(sayilar)"
   ]
  },
  {
   "cell_type": "code",
   "execution_count": null,
   "metadata": {},
   "outputs": [],
   "source": [
    "dereceler=[20,15,5,0,-2]\n",
    "\n",
    "for i in dereceler:\n",
    "    \n",
    "    if i==20:\n",
    "        print(\"Hava sıcaklığı 20 derece buzlanma tehlikesi yok\")\n",
    "    elif i==15:\n",
    "        print(\"Hava sıcaklığı 15 derece buzlanma tehlikesi yok\") \n",
    "    elif i==5:\n",
    "        print(\"Dikkat hava sıcaklığı ani 10 derece düştü sıcaklık 5 derece hazırlıklı olun\")\n",
    "    elif i==0:\n",
    "        print(\"Sıcaklık 0 derece buzlanma tehlikesi var\")  \n",
    "    elif i==-2:\n",
    "        print(\"sıcaklık 0 ın altında buzlanma var Dikkat\")"
   ]
  },
  {
   "cell_type": "code",
   "execution_count": null,
   "metadata": {},
   "outputs": [],
   "source": [
    "dereceler=[20,15,5,0,-2]\n",
    "durumlar=[\"Hava sıcaklığı 20 derece buzlanma tehlikesi yok\",\n",
    "          \"Hava sıcaklığı 15 derece buzlanma tehlikesi yok\",\n",
    "          \"Dikkat hava sıcaklığı ani 10 derece düştü sıcaklık 5 derece hazırlıklı olun\",\n",
    "          \"Sıcaklık 0 derece buzlanma tehlikesi var\",\n",
    "          \"sıcaklık 0 ın altında buzlanma var Dikkat\"]\n",
    "for x,y in zip(dereceler,durumlar):\n",
    "    print(x,y)"
   ]
  },
  {
   "cell_type": "code",
   "execution_count": 2,
   "metadata": {},
   "outputs": [
    {
     "name": "stdout",
     "output_type": "stream",
     "text": [
      "Ali isimli öğrencinin numarası:12\n",
      "Veli isimli öğrencinin numarası:15\n",
      "Sait isimli öğrencinin numarası:17\n",
      "Osman isimli öğrencinin numarası:23\n"
     ]
    }
   ],
   "source": [
    "liste1=[\"Ali\",\"Veli\",\"Sait\",\"Osman\"]\n",
    "liste2=[12,15,17,23]\n",
    "liste3=list()\n",
    "for x,y in zip(liste1,liste2):\n",
    "    print(f\"{x} isimli öğrencinin numarası:{y}\")"
   ]
  },
  {
   "cell_type": "code",
   "execution_count": null,
   "metadata": {},
   "outputs": [],
   "source": []
  }
 ],
 "metadata": {
  "kernelspec": {
   "display_name": "Python 3",
   "language": "python",
   "name": "python3"
  },
  "language_info": {
   "codemirror_mode": {
    "name": "ipython",
    "version": 3
   },
   "file_extension": ".py",
   "mimetype": "text/x-python",
   "name": "python",
   "nbconvert_exporter": "python",
   "pygments_lexer": "ipython3",
   "version": "3.8.5"
  }
 },
 "nbformat": 4,
 "nbformat_minor": 4
}
