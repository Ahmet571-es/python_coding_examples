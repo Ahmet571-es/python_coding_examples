{
 "cells": [
  {
   "cell_type": "code",
   "execution_count": 1,
   "metadata": {},
   "outputs": [
    {
     "name": "stdout",
     "output_type": "stream",
     "text": [
      "ilk sayıyı giriniz=12\n",
      "ikinci sayıyı giriniz=5\n",
      "sonuç=43\n"
     ]
    }
   ],
   "source": [
    "# kullanıcıdan aldığını iki sayının çarpımı ile a,b,c sayılarının toplamının farkı nedir?\n",
    "\n",
    "a,b,c=2,5,10\n",
    "sayi1=int(input(\"ilk sayıyı giriniz=\"))\n",
    "sayi2=int(input(\"ikinci sayıyı giriniz=\"))\n",
    "carpım=sayi1*sayi2\n",
    "toplam=a+b+c\n",
    "sonuc=carpım-toplam\n",
    "print(\"sonuç={}\".format(str(sonuc)))\n"
   ]
  },
  {
   "cell_type": "code",
   "execution_count": 2,
   "metadata": {},
   "outputs": [
    {
     "name": "stdout",
     "output_type": "stream",
     "text": [
      "c nin b ye kalansız bölümü=2\n"
     ]
    }
   ],
   "source": [
    "bolum=c//b\n",
    "print(\"c nin b ye kalansız bölümü={}\".format(str(bolum)))"
   ]
  },
  {
   "cell_type": "code",
   "execution_count": 3,
   "metadata": {},
   "outputs": [
    {
     "name": "stdout",
     "output_type": "stream",
     "text": [
      "toplamın 3 ile bölümünden kalan=2\n"
     ]
    }
   ],
   "source": [
    "mod=toplam%3\n",
    "print(\"toplamın 3 ile bölümünden kalan={}\".format(str(mod)))"
   ]
  },
  {
   "cell_type": "code",
   "execution_count": 5,
   "metadata": {},
   "outputs": [
    {
     "name": "stdout",
     "output_type": "stream",
     "text": [
      "b üssü a = 25\n"
     ]
    }
   ],
   "source": [
    "kuvvet=b**a\n",
    "print(\"b üssü a = {}\".format(str(kuvvet)))"
   ]
  },
  {
   "cell_type": "code",
   "execution_count": null,
   "metadata": {},
   "outputs": [],
   "source": []
  }
 ],
 "metadata": {
  "kernelspec": {
   "display_name": "Python 3",
   "language": "python",
   "name": "python3"
  },
  "language_info": {
   "codemirror_mode": {
    "name": "ipython",
    "version": 3
   },
   "file_extension": ".py",
   "mimetype": "text/x-python",
   "name": "python",
   "nbconvert_exporter": "python",
   "pygments_lexer": "ipython3",
   "version": "3.8.5"
  }
 },
 "nbformat": 4,
 "nbformat_minor": 4
}
